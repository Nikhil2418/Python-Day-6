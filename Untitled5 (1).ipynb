{
  "nbformat": 4,
  "nbformat_minor": 0,
  "metadata": {
    "colab": {
      "name": "Untitled5.ipynb",
      "provenance": []
    },
    "kernelspec": {
      "name": "python3",
      "display_name": "Python 3"
    }
  },
  "cells": [
    {
      "cell_type": "code",
      "metadata": {
        "id": "fLgJ-dgB0_rz",
        "colab_type": "code",
        "colab": {}
      },
      "source": [
        ""
      ],
      "execution_count": null,
      "outputs": []
    },
    {
      "cell_type": "markdown",
      "metadata": {
        "id": "Q7vpV8r31gMh",
        "colab_type": "text"
      },
      "source": [
        "Bank Account"
      ]
    },
    {
      "cell_type": "code",
      "metadata": {
        "id": "9-kR42rh1i1G",
        "colab_type": "code",
        "colab": {}
      },
      "source": [
        "class bank():\n",
        "  def __init__(self,ownerName,balance):\n",
        "    self.ownerName=ownerName\n",
        "    self.balance=balance\n",
        "    print(\"owner\",self.ownerName)\n",
        "    print(\"original balance\",self.balance)\n",
        "  def deposit(self,a):\n",
        "    self.balance=self.balance+a\n",
        "    print(\"Amount deposited\",a)\n",
        "  def withdraw(self,b):\n",
        "    if b<self.balance:\n",
        "      self.balance=self.balance-b\n",
        "      print(\"Withdraw amount\",b)\n",
        "    else:\n",
        "      print(\"Balance limit exceeded\")\n",
        "    print(\"Balance\",self.balance)\n"
      ],
      "execution_count": null,
      "outputs": []
    },
    {
      "cell_type": "code",
      "metadata": {
        "id": "Ltna3Fdj5tN0",
        "colab_type": "code",
        "colab": {
          "base_uri": "https://localhost:8080/",
          "height": 102
        },
        "outputId": "492f33a3-fbdf-4a51-8b58-79170c5d3d4a"
      },
      "source": [
        "acc=bank(\"Nikhil\",20000)\n",
        "acc.deposit(500)\n",
        "acc.withdraw(500)"
      ],
      "execution_count": 36,
      "outputs": [
        {
          "output_type": "stream",
          "text": [
            "owner Nikhil\n",
            "original balance 20000\n",
            "Amount deposited 500\n",
            "Withdraw amount 500\n",
            "Balance 20000\n"
          ],
          "name": "stdout"
        }
      ]
    },
    {
      "cell_type": "markdown",
      "metadata": {
        "id": "DNDND7E7_ReD",
        "colab_type": "text"
      },
      "source": [
        "2. "
      ]
    },
    {
      "cell_type": "code",
      "metadata": {
        "id": "3s5CE8GgG_8U",
        "colab_type": "code",
        "colab": {}
      },
      "source": [
        "import math\n",
        "\n",
        "class cone():\n",
        "  def __init__(self,radius,height):\n",
        "    self.radius = radius\n",
        "    self.height = height\n",
        "\n",
        "  def volume(self):\n",
        "    v=(math.pi)*pow(self.radius,2)*(self.height/3)\n",
        "    return (\"Volume: %.2f\"%v)\n",
        "\n",
        "  def area(self):\n",
        "    a = (math.pi)*self.radius*(self.radius+math.sqrt((pow(self.radius,2)+pow(self.height,2))))\n",
        "    return (\"Surface Area: %.2f\"%a)\n",
        "\n",
        "  vol=cone(6,3)\n",
        "  vol.volume()\n",
        "  vol.area()"
      ],
      "execution_count": null,
      "outputs": []
    }
  ]
}